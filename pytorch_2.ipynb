{
  "nbformat": 4,
  "nbformat_minor": 0,
  "metadata": {
    "colab": {
      "provenance": [],
      "authorship_tag": "ABX9TyNG73YdfRPat0rXS4zil0P1",
      "include_colab_link": true
    },
    "kernelspec": {
      "name": "python3",
      "display_name": "Python 3"
    },
    "language_info": {
      "name": "python"
    }
  },
  "cells": [
    {
      "cell_type": "markdown",
      "metadata": {
        "id": "view-in-github",
        "colab_type": "text"
      },
      "source": [
        "<a href=\"https://colab.research.google.com/github/schizohub/PyTorch_lessons/blob/main/pytorch_2.ipynb\" target=\"_parent\"><img src=\"https://colab.research.google.com/assets/colab-badge.svg\" alt=\"Open In Colab\"/></a>"
      ]
    },
    {
      "cell_type": "markdown",
      "source": [
        "# Importing libraries"
      ],
      "metadata": {
        "id": "I9XiTbKcH4Oo"
      }
    },
    {
      "cell_type": "code",
      "execution_count": 1,
      "metadata": {
        "id": "DwvgC5C24eQG"
      },
      "outputs": [],
      "source": [
        "import torch\n",
        "from torch import nn\n",
        "import matplotlib.pyplot as plt"
      ]
    },
    {
      "cell_type": "markdown",
      "source": [
        "# Data (preparing and loading)"
      ],
      "metadata": {
        "id": "z36G1pFoH9-E"
      }
    },
    {
      "cell_type": "code",
      "source": [
        "weight = 0.7\n",
        "bias = 0.3\n",
        "\n",
        "start = 0\n",
        "end = 1\n",
        "step = 0.002\n",
        "\n",
        "X = torch.arange(start,end,step).unsqueeze(dim=1)\n",
        "\n",
        "y = bias + X*weight\n",
        "\n",
        "X[:10], y[:10]"
      ],
      "metadata": {
        "colab": {
          "base_uri": "https://localhost:8080/"
        },
        "id": "k38EgEEM5tss",
        "outputId": "5a663e96-1176-43c0-9ece-84d3e35bf15b"
      },
      "execution_count": 177,
      "outputs": [
        {
          "output_type": "execute_result",
          "data": {
            "text/plain": [
              "(tensor([[0.0000],\n",
              "         [0.0020],\n",
              "         [0.0040],\n",
              "         [0.0060],\n",
              "         [0.0080],\n",
              "         [0.0100],\n",
              "         [0.0120],\n",
              "         [0.0140],\n",
              "         [0.0160],\n",
              "         [0.0180]]), tensor([[0.3000],\n",
              "         [0.3014],\n",
              "         [0.3028],\n",
              "         [0.3042],\n",
              "         [0.3056],\n",
              "         [0.3070],\n",
              "         [0.3084],\n",
              "         [0.3098],\n",
              "         [0.3112],\n",
              "         [0.3126]]))"
            ]
          },
          "metadata": {},
          "execution_count": 177
        }
      ]
    },
    {
      "cell_type": "code",
      "source": [
        "len(X)\n",
        "0.8*len(X)"
      ],
      "metadata": {
        "colab": {
          "base_uri": "https://localhost:8080/"
        },
        "id": "tAzf6gBM87ox",
        "outputId": "9d2bd990-7c94-4c6c-9da6-8c5c5feff05a"
      },
      "execution_count": 178,
      "outputs": [
        {
          "output_type": "execute_result",
          "data": {
            "text/plain": [
              "400.0"
            ]
          },
          "metadata": {},
          "execution_count": 178
        }
      ]
    },
    {
      "cell_type": "code",
      "source": [
        "x_train = X[:400]\n",
        "x_test = X[400:]\n",
        "y_train = y[:400]\n",
        "y_test = y[400:]"
      ],
      "metadata": {
        "id": "iYvT6SBUCUVY"
      },
      "execution_count": 179,
      "outputs": []
    },
    {
      "cell_type": "markdown",
      "source": [
        "# Visualizing data to see how correlate things to each other "
      ],
      "metadata": {
        "id": "klGuhFMxIHVJ"
      }
    },
    {
      "cell_type": "code",
      "source": [
        "def plot_predictions(train_data=x_train,\n",
        "                     train_labels=y_train,\n",
        "                     test_data=x_test,\n",
        "                     test_labels=y_test,\n",
        "                     predictions=None):\n",
        "    plt.figure(figsize=(14,8))\n",
        "\n",
        "    plt.scatter(train_data,train_labels,c='b',s=4,label='Training data')\n",
        "\n",
        "    plt.scatter(test_data, test_labels, c='g',s=4,label='Testing data')\n",
        "\n",
        "    if predictions is not None:\n",
        "        plt.scatter(test_data, predictions, c='r', s=4, label='Predictions')\n",
        "\n",
        "    plt.legend(prop={'size': 14});\n",
        "\n"
      ],
      "metadata": {
        "id": "EQolGB8E8-V1"
      },
      "execution_count": 180,
      "outputs": []
    },
    {
      "cell_type": "code",
      "source": [
        "plot_predictions();"
      ],
      "metadata": {
        "colab": {
          "base_uri": "https://localhost:8080/",
          "height": 483
        },
        "id": "IWS2LPcEah2C",
        "outputId": "7e098033-6f21-4260-d203-4d736388101e"
      },
      "execution_count": 181,
      "outputs": [
        {
          "output_type": "display_data",
          "data": {
            "text/plain": [
              "<Figure size 1008x576 with 1 Axes>"
            ],
            "image/png": "[encoded data removed]"
          },
          "metadata": {
            "needs_background": "light"
          }
        }
      ]
    },
    {
      "cell_type": "markdown",
      "source": [
        "# Build a model"
      ],
      "metadata": {
        "id": "i4c8gnJ1IS77"
      }
    },
    {
      "cell_type": "code",
      "source": [
        "class LinearRegression(nn.Module):\n",
        "    def __init__(self):\n",
        "        super().__init__()\n",
        "        self.weights = nn.Parameter(torch.randn(1,\n",
        "                                                requires_grad=True,\n",
        "                                                dtype=torch.float))\n",
        "        self.bias = nn.Parameter(torch.randn(1,\n",
        "                                             requires_grad=True,\n",
        "                                             dtype=torch.float))\n",
        "    def forward(self,x):\n",
        "        return self.weights*x+self.bias\n",
        "            \n",
        "\n",
        "\n"
      ],
      "metadata": {
        "id": "v1NEVODR_Tuc"
      },
      "execution_count": 277,
      "outputs": []
    },
    {
      "cell_type": "code",
      "source": [
        "# torch.manual_seed(42)\n",
        "model_0 = LinearRegression()\n",
        "# model_0\n",
        "list(model_0.parameters())"
      ],
      "metadata": {
        "colab": {
          "base_uri": "https://localhost:8080/"
        },
        "id": "FnwKNbcrYASq",
        "outputId": "0f389497-dacb-4a37-e979-1ad54e8fb82b"
      },
      "execution_count": 290,
      "outputs": [
        {
          "output_type": "execute_result",
          "data": {
            "text/plain": [
              "[Parameter containing:\n",
              " tensor([0.2815], requires_grad=True), Parameter containing:\n",
              " tensor([0.0562], requires_grad=True)]"
            ]
          },
          "metadata": {},
          "execution_count": 290
        }
      ]
    },
    {
      "cell_type": "code",
      "source": [
        "model_0(x_test)[:10]"
      ],
      "metadata": {
        "colab": {
          "base_uri": "https://localhost:8080/"
        },
        "id": "4KcoXMeRYKjJ",
        "outputId": "35c2673f-832d-41ce-b2e4-41165f2d7f36"
      },
      "execution_count": 214,
      "outputs": [
        {
          "output_type": "execute_result",
          "data": {
            "text/plain": [
              "tensor([[0.4179],\n",
              "        [0.4184],\n",
              "        [0.4188],\n",
              "        [0.4193],\n",
              "        [0.4198],\n",
              "        [0.4202],\n",
              "        [0.4207],\n",
              "        [0.4212],\n",
              "        [0.4217],\n",
              "        [0.4221]], grad_fn=<SliceBackward0>)"
            ]
          },
          "metadata": {},
          "execution_count": 214
        }
      ]
    },
    {
      "cell_type": "code",
      "source": [
        "with torch.inference_mode():\n",
        "    y_preds = model_0(x_test) \n",
        "\n",
        "y_preds[:10]"
      ],
      "metadata": {
        "colab": {
          "base_uri": "https://localhost:8080/"
        },
        "id": "b_hHlNelYQCr",
        "outputId": "203999d7-794c-4ce2-8467-b3518ab1e68d"
      },
      "execution_count": 291,
      "outputs": [
        {
          "output_type": "execute_result",
          "data": {
            "text/plain": [
              "tensor([[0.2814],\n",
              "        [0.2819],\n",
              "        [0.2825],\n",
              "        [0.2831],\n",
              "        [0.2836],\n",
              "        [0.2842],\n",
              "        [0.2848],\n",
              "        [0.2853],\n",
              "        [0.2859],\n",
              "        [0.2864]])"
            ]
          },
          "metadata": {},
          "execution_count": 291
        }
      ]
    },
    {
      "cell_type": "code",
      "source": [
        "y_test[:10]"
      ],
      "metadata": {
        "colab": {
          "base_uri": "https://localhost:8080/"
        },
        "id": "g48rVaYBYkH-",
        "outputId": "7607ecaa-c7ba-4c58-d29b-de45ea2d1a29"
      },
      "execution_count": 216,
      "outputs": [
        {
          "output_type": "execute_result",
          "data": {
            "text/plain": [
              "tensor([[0.8600],\n",
              "        [0.8614],\n",
              "        [0.8628],\n",
              "        [0.8642],\n",
              "        [0.8656],\n",
              "        [0.8670],\n",
              "        [0.8684],\n",
              "        [0.8698],\n",
              "        [0.8712],\n",
              "        [0.8726]])"
            ]
          },
          "metadata": {},
          "execution_count": 216
        }
      ]
    },
    {
      "cell_type": "code",
      "source": [
        "plot_predictions(predictions=y_preds)"
      ],
      "metadata": {
        "colab": {
          "base_uri": "https://localhost:8080/",
          "height": 483
        },
        "id": "5lli3sh_Y-oX",
        "outputId": "724ad556-2b7f-48c1-bfed-98c0b33dfadc"
      },
      "execution_count": 292,
      "outputs": [
        {
          "output_type": "display_data",
          "data": {
            "text/plain": [
              "<Figure size 1008x576 with 1 Axes>"
            ],
            "image/png": "[encoded data removed]"
          },
          "metadata": {
            "needs_background": "light"
          }
        }
      ]
    },
    {
      "cell_type": "markdown",
      "source": [
        "# Train model (optimizing and improving the model parameters (e.g weights and bias))"
      ],
      "metadata": {
        "id": "P67BAF-uIa2S"
      }
    },
    {
      "cell_type": "code",
      "source": [
        "loss_fn = nn.L1Loss()\n",
        "\n",
        "optimizer = torch.optim.SGD(params=model_0.parameters(),\n",
        "                            lr=0.01)"
      ],
      "metadata": {
        "id": "TxThk-nvawuY"
      },
      "execution_count": 293,
      "outputs": []
    },
    {
      "cell_type": "code",
      "source": [
        "torch.manual_seed(42)\n",
        "\n",
        "\n",
        "epochs = 200\n",
        "#Track different values \n",
        "epoch_count = []\n",
        "loss_values = []\n",
        "test_loss_values = []\n",
        "### Training\n",
        "\n",
        "# 0. Loop through the data\n",
        "for epoch in range(epochs):\n",
        "    # Set the model to training data\n",
        "    model_0.train() # train mode in PyTorch sets all parameters that require gradients to require gradients\n",
        "\n",
        "    # 1. Forward pass (forward propagation)\n",
        "    y_pred = model_0(x_train)\n",
        "    \n",
        "    # 2. Calculate the loss\n",
        "    loss = loss_fn(y_pred, y_train)\n",
        "    \n",
        "    # 3. Optimizer zero grad\n",
        "    optimizer.zero_grad()\n",
        "\n",
        "    # 4. Perform backpropagation on the loss with respect to parameters of the model\n",
        "    loss.backward()\n",
        "    \n",
        "    # 5. Step the optimizer (perform gradient descent)\n",
        "    optimizer.step()  \n",
        "\n",
        "    ### Testing\n",
        "    model_0.eval() \n",
        "    with torch.inference_mode(): # turns off gradient tracking\n",
        "        # 1.Do the forward pass\n",
        "        test_pred = model_0(x_test)\n",
        "\n",
        "        # 2. Calculate the test loss\n",
        "        test_loss = loss_fn(test_pred, y_test)\n",
        "\n",
        "        # 3. \n",
        "    if epoch % 10==0:\n",
        "        epoch_count.append(epoch)\n",
        "        loss_values.append(loss)\n",
        "        test_loss_values.append(test_loss)\n",
        "        print(f\"Epoch: {epoch} | Loss: {loss} | Test_loss: {test_loss}\")\n",
        "        print(model_0.state_dict())"
      ],
      "metadata": {
        "colab": {
          "base_uri": "https://localhost:8080/"
        },
        "id": "hRSVcPDUmcGM",
        "outputId": "e358abf6-6125-4982-d442-ebf2111fd8ef"
      },
      "execution_count": 294,
      "outputs": [
        {
          "output_type": "stream",
          "name": "stdout",
          "text": [
            "Epoch: 0 | Loss: 0.4108101725578308 | Test_loss: 0.6064633727073669\n",
            "OrderedDict([('weights', tensor([0.2855])), ('bias', tensor([0.0662]))])\n",
            "Epoch: 10 | Loss: 0.29489007592201233 | Test_loss: 0.47059333324432373\n",
            "OrderedDict([('weights', tensor([0.3254])), ('bias', tensor([0.1662]))])\n",
            "Epoch: 20 | Loss: 0.17896994948387146 | Test_loss: 0.33472320437431335\n",
            "OrderedDict([('weights', tensor([0.3653])), ('bias', tensor([0.2662]))])\n",
            "Epoch: 30 | Loss: 0.08206981420516968 | Test_loss: 0.21314102411270142\n",
            "OrderedDict([('weights', tensor([0.4044])), ('bias', tensor([0.3526]))])\n",
            "Epoch: 40 | Loss: 0.05534584820270538 | Test_loss: 0.14962081611156464\n",
            "OrderedDict([('weights', tensor([0.4358])), ('bias', tensor([0.3879]))])\n",
            "Epoch: 50 | Loss: 0.04866554215550423 | Test_loss: 0.12099456042051315\n",
            "OrderedDict([('weights', tensor([0.4588])), ('bias', tensor([0.3959]))])\n",
            "Epoch: 60 | Loss: 0.04492054507136345 | Test_loss: 0.10656431317329407\n",
            "OrderedDict([('weights', tensor([0.4777])), ('bias', tensor([0.3933]))])\n",
            "Epoch: 70 | Loss: 0.041480254381895065 | Test_loss: 0.09680172055959702\n",
            "OrderedDict([('weights', tensor([0.4953])), ('bias', tensor([0.3873]))])\n",
            "Epoch: 80 | Loss: 0.03806271776556969 | Test_loss: 0.08842077106237411\n",
            "OrderedDict([('weights', tensor([0.5124])), ('bias', tensor([0.3803]))])\n",
            "Epoch: 90 | Loss: 0.03464624285697937 | Test_loss: 0.08038605004549026\n",
            "OrderedDict([('weights', tensor([0.5294])), ('bias', tensor([0.3730]))])\n",
            "Epoch: 100 | Loss: 0.031229998916387558 | Test_loss: 0.07235132902860641\n",
            "OrderedDict([('weights', tensor([0.5464])), ('bias', tensor([0.3658]))])\n",
            "Epoch: 110 | Loss: 0.027813656255602837 | Test_loss: 0.06438585370779037\n",
            "OrderedDict([('weights', tensor([0.5633])), ('bias', tensor([0.3585]))])\n",
            "Epoch: 120 | Loss: 0.024397430941462517 | Test_loss: 0.056351132690906525\n",
            "OrderedDict([('weights', tensor([0.5804])), ('bias', tensor([0.3512]))])\n",
            "Epoch: 130 | Loss: 0.02098107896745205 | Test_loss: 0.04831641539931297\n",
            "OrderedDict([('weights', tensor([0.5974])), ('bias', tensor([0.3440]))])\n",
            "Epoch: 140 | Loss: 0.017564838752150536 | Test_loss: 0.04035094380378723\n",
            "OrderedDict([('weights', tensor([0.6143])), ('bias', tensor([0.3367]))])\n",
            "Epoch: 150 | Loss: 0.014148515649139881 | Test_loss: 0.032316215336322784\n",
            "OrderedDict([('weights', tensor([0.6313])), ('bias', tensor([0.3294]))])\n",
            "Epoch: 160 | Loss: 0.010732252150774002 | Test_loss: 0.024350745603442192\n",
            "OrderedDict([('weights', tensor([0.6483])), ('bias', tensor([0.3221]))])\n",
            "Epoch: 170 | Loss: 0.007315955590456724 | Test_loss: 0.016316020861268044\n",
            "OrderedDict([('weights', tensor([0.6653])), ('bias', tensor([0.3149]))])\n",
            "Epoch: 180 | Loss: 0.0038996650837361813 | Test_loss: 0.008350541815161705\n",
            "OrderedDict([('weights', tensor([0.6823])), ('bias', tensor([0.3076]))])\n",
            "Epoch: 190 | Loss: 0.003683301853016019 | Test_loss: 0.010567927733063698\n",
            "OrderedDict([('weights', tensor([0.6947])), ('bias', tensor([0.2942]))])\n"
          ]
        }
      ]
    },
    {
      "cell_type": "code",
      "source": [
        "weight, bias"
      ],
      "metadata": {
        "colab": {
          "base_uri": "https://localhost:8080/"
        },
        "id": "40pwC1xdznR4",
        "outputId": "3dac0206-0137-485d-878b-39af2e18fd04"
      },
      "execution_count": 195,
      "outputs": [
        {
          "output_type": "execute_result",
          "data": {
            "text/plain": [
              "(0.7, 0.3)"
            ]
          },
          "metadata": {},
          "execution_count": 195
        }
      ]
    },
    {
      "cell_type": "code",
      "source": [
        "model_0.state_dict()"
      ],
      "metadata": {
        "colab": {
          "base_uri": "https://localhost:8080/"
        },
        "id": "Q_nUJvEMzxoI",
        "outputId": "1de5070a-c475-4848-ded7-36a7595690e8"
      },
      "execution_count": 295,
      "outputs": [
        {
          "output_type": "execute_result",
          "data": {
            "text/plain": [
              "OrderedDict([('weights', tensor([0.6987])), ('bias', tensor([0.3042]))])"
            ]
          },
          "metadata": {},
          "execution_count": 295
        }
      ]
    },
    {
      "cell_type": "code",
      "source": [
        "y_test[:10]"
      ],
      "metadata": {
        "colab": {
          "base_uri": "https://localhost:8080/"
        },
        "id": "XRxyChr61o7Y",
        "outputId": "8418f6b0-8f7f-48aa-cd5b-f38cdae9b956"
      },
      "execution_count": 269,
      "outputs": [
        {
          "output_type": "execute_result",
          "data": {
            "text/plain": [
              "tensor([[0.8600],\n",
              "        [0.8614],\n",
              "        [0.8628],\n",
              "        [0.8642],\n",
              "        [0.8656],\n",
              "        [0.8670],\n",
              "        [0.8684],\n",
              "        [0.8698],\n",
              "        [0.8712],\n",
              "        [0.8726]])"
            ]
          },
          "metadata": {},
          "execution_count": 269
        }
      ]
    },
    {
      "cell_type": "code",
      "source": [
        "with torch.inference_mode():\n",
        "    y_preds_new = model_0(x_test)\n",
        "y_preds_new[:10]"
      ],
      "metadata": {
        "colab": {
          "base_uri": "https://localhost:8080/"
        },
        "id": "xZrKRbLez6dh",
        "outputId": "e6114849-4323-45d0-9acf-6eddb638f9c5"
      },
      "execution_count": 296,
      "outputs": [
        {
          "output_type": "execute_result",
          "data": {
            "text/plain": [
              "tensor([[0.8632],\n",
              "        [0.8645],\n",
              "        [0.8659],\n",
              "        [0.8673],\n",
              "        [0.8687],\n",
              "        [0.8701],\n",
              "        [0.8715],\n",
              "        [0.8729],\n",
              "        [0.8743],\n",
              "        [0.8757]])"
            ]
          },
          "metadata": {},
          "execution_count": 296
        }
      ]
    },
    {
      "cell_type": "code",
      "source": [
        "plot_predictions(predictions=y_preds);"
      ],
      "metadata": {
        "colab": {
          "base_uri": "https://localhost:8080/",
          "height": 483
        },
        "id": "5xTyWE5S04np",
        "outputId": "e45105b6-15fa-4e9e-b5e5-acbdbc995b89"
      },
      "execution_count": 297,
      "outputs": [
        {
          "output_type": "display_data",
          "data": {
            "text/plain": [
              "<Figure size 1008x576 with 1 Axes>"
            ],
            "image/png": "[encoded data removed]"
          },
          "metadata": {
            "needs_background": "light"
          }
        }
      ]
    },
    {
      "cell_type": "code",
      "source": [
        "plot_predictions(predictions=y_preds_new);"
      ],
      "metadata": {
        "colab": {
          "base_uri": "https://localhost:8080/",
          "height": 483
        },
        "id": "6DJQNv2D0_aR",
        "outputId": "1b76e574-32c4-4b74-ebb4-002676673472"
      },
      "execution_count": 298,
      "outputs": [
        {
          "output_type": "display_data",
          "data": {
            "text/plain": [
              "<Figure size 1008x576 with 1 Axes>"
            ],
            "image/png": "[encoded data removed]"
          },
          "metadata": {
            "needs_background": "light"
          }
        }
      ]
    },
    {
      "cell_type": "code",
      "source": [
        "import numpy as np\n",
        "loss_values = np.array(torch.tensor(loss_values).cpu().numpy())\n",
        "test_loss_values = np.array(torch.tensor(test_loss_values).cpu().numpy())"
      ],
      "metadata": {
        "id": "rc1dwtNs9v7X"
      },
      "execution_count": 299,
      "outputs": []
    },
    {
      "cell_type": "code",
      "source": [
        "plt.figure(figsize=(10,7))\n",
        "plt.plot(epoch_count, loss_values, label='Train loss')\n",
        "plt.plot(epoch_count, test_loss_values, label='Test loss')\n",
        "plt.title('Training and test loss curves')\n",
        "plt.ylabel('Loss')\n",
        "plt.xlabel(\"Epochs\")\n",
        "plt.legend();\n",
        "plt.show()"
      ],
      "metadata": {
        "colab": {
          "base_uri": "https://localhost:8080/",
          "height": 458
        },
        "id": "_v60clf-1FWn",
        "outputId": "9138cd38-0b3c-4624-cc1f-40db8097e6e0"
      },
      "execution_count": 300,
      "outputs": [
        {
          "output_type": "display_data",
          "data": {
            "text/plain": [
              "<Figure size 720x504 with 1 Axes>"
            ],
            "image/png": "[encoded data removed]"
          },
          "metadata": {
            "needs_background": "light"
          }
        }
      ]
    },
    {
      "cell_type": "code",
      "source": [
        "model_0.state_dict()"
      ],
      "metadata": {
        "colab": {
          "base_uri": "https://localhost:8080/"
        },
        "id": "GHBjozHjGN95",
        "outputId": "f88cfdc1-12f3-4f8c-d4a1-cc456541815a"
      },
      "execution_count": 310,
      "outputs": [
        {
          "output_type": "execute_result",
          "data": {
            "text/plain": [
              "OrderedDict([('weights', tensor([0.6987])), ('bias', tensor([0.3042]))])"
            ]
          },
          "metadata": {},
          "execution_count": 310
        }
      ]
    },
    {
      "cell_type": "markdown",
      "source": [
        "# Saving, loading and reusing the model "
      ],
      "metadata": {
        "id": "zF0d7lvqIrCh"
      }
    },
    {
      "cell_type": "code",
      "source": [
        "#Saving a PyTorch model\n",
        "from pathlib import Path \n",
        "# 1. Create models directory\n",
        "MODEL_PATH = Path('models')\n",
        "MODEL_PATH.mkdir(parents=True, exist_ok=True)\n",
        "\n",
        "# 2. Create model save path\n",
        "MODEL_NAME = '01_pytorch_first_neural_network_model.pth'\n",
        "MODEL_SAVE_PATH = MODEL_PATH/MODEL_NAME\n",
        "\n",
        "# 3. Save the model in the state_dict()\n",
        "\n",
        "print(f\"Saving model to: {MODEL_SAVE_PATH}\")\n",
        "torch.save(obj=model_0.state_dict(),\n",
        "           f=MODEL_SAVE_PATH)"
      ],
      "metadata": {
        "colab": {
          "base_uri": "https://localhost:8080/"
        },
        "id": "rw4MKBoY-ZIV",
        "outputId": "0ef69423-cedc-4acf-907d-983f79398139"
      },
      "execution_count": 302,
      "outputs": [
        {
          "output_type": "stream",
          "name": "stdout",
          "text": [
            "Saving model to: models/01_pytorch_first_neural_network_model.pth\n"
          ]
        }
      ]
    },
    {
      "cell_type": "code",
      "source": [
        "!ls  models"
      ],
      "metadata": {
        "colab": {
          "base_uri": "https://localhost:8080/"
        },
        "id": "6jmBE9L5DcTi",
        "outputId": "87889e7a-b3cb-4ba7-ffd6-986dac071fc6"
      },
      "execution_count": 305,
      "outputs": [
        {
          "output_type": "stream",
          "name": "stdout",
          "text": [
            "01_pytorch_first_neural_network_model.pth\n"
          ]
        }
      ]
    },
    {
      "cell_type": "code",
      "source": [
        "#Loading a PyTorch model\n",
        "# 1. To load in a saved state_dict we have to instantiate a new instance of our model class\n",
        "loaded_model_0 = LinearRegression()\n",
        "\n",
        "# Load the saved state_dict of model_0 (this will update the new instance with updated parameters)\n",
        "loaded_model_0.load_state_dict(torch.load(f=MODEL_SAVE_PATH))"
      ],
      "metadata": {
        "colab": {
          "base_uri": "https://localhost:8080/"
        },
        "id": "TjpPtSupETyH",
        "outputId": "15efb5ab-f908-4f0f-d6cb-b673fe4428b7"
      },
      "execution_count": 309,
      "outputs": [
        {
          "output_type": "execute_result",
          "data": {
            "text/plain": [
              "<All keys matched successfully>"
            ]
          },
          "metadata": {},
          "execution_count": 309
        }
      ]
    },
    {
      "cell_type": "code",
      "source": [
        "loaded_model_0.state_dict()"
      ],
      "metadata": {
        "colab": {
          "base_uri": "https://localhost:8080/"
        },
        "id": "n4izq8gYFois",
        "outputId": "fd982a0c-468b-4efa-c353-8e3f5b223d72"
      },
      "execution_count": 311,
      "outputs": [
        {
          "output_type": "execute_result",
          "data": {
            "text/plain": [
              "OrderedDict([('weights', tensor([0.6987])), ('bias', tensor([0.3042]))])"
            ]
          },
          "metadata": {},
          "execution_count": 311
        }
      ]
    },
    {
      "cell_type": "code",
      "source": [
        "loaded_model_0.eval()\n",
        "with torch.inference_mode():\n",
        "    loaded_model_preds = loaded_model_0(x_test)\n",
        "\n",
        "loaded_model_preds[:10]"
      ],
      "metadata": {
        "colab": {
          "base_uri": "https://localhost:8080/"
        },
        "id": "wLs9Lc9AFrf3",
        "outputId": "fce122f8-ec18-4b34-c5af-83b7e1e05f71"
      },
      "execution_count": 313,
      "outputs": [
        {
          "output_type": "execute_result",
          "data": {
            "text/plain": [
              "tensor([[0.8632],\n",
              "        [0.8645],\n",
              "        [0.8659],\n",
              "        [0.8673],\n",
              "        [0.8687],\n",
              "        [0.8701],\n",
              "        [0.8715],\n",
              "        [0.8729],\n",
              "        [0.8743],\n",
              "        [0.8757]])"
            ]
          },
          "metadata": {},
          "execution_count": 313
        }
      ]
    },
    {
      "cell_type": "code",
      "source": [
        "y_preds_new[:10]==loaded_model_preds[:10]"
      ],
      "metadata": {
        "colab": {
          "base_uri": "https://localhost:8080/"
        },
        "id": "pXTU9jMrGoiA",
        "outputId": "5f1e2a6e-5dd4-4776-b558-d17d535fe153"
      },
      "execution_count": 316,
      "outputs": [
        {
          "output_type": "execute_result",
          "data": {
            "text/plain": [
              "tensor([[True],\n",
              "        [True],\n",
              "        [True],\n",
              "        [True],\n",
              "        [True],\n",
              "        [True],\n",
              "        [True],\n",
              "        [True],\n",
              "        [True],\n",
              "        [True]])"
            ]
          },
          "metadata": {},
          "execution_count": 316
        }
      ]
    },
    {
      "cell_type": "code",
      "source": [],
      "metadata": {
        "id": "vBFTxNAELc62"
      },
      "execution_count": null,
      "outputs": []
    }
  ]
}